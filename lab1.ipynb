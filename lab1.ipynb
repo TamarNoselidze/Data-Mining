{
 "cells": [
  {
   "cell_type": "code",
   "execution_count": 1,
   "id": "7d9b9494",
   "metadata": {},
   "outputs": [
    {
     "data": {
      "text/html": [
       "<div>\n",
       "<style scoped>\n",
       "    .dataframe tbody tr th:only-of-type {\n",
       "        vertical-align: middle;\n",
       "    }\n",
       "\n",
       "    .dataframe tbody tr th {\n",
       "        vertical-align: top;\n",
       "    }\n",
       "\n",
       "    .dataframe thead th {\n",
       "        text-align: right;\n",
       "    }\n",
       "</style>\n",
       "<table border=\"1\" class=\"dataframe\">\n",
       "  <thead>\n",
       "    <tr style=\"text-align: right;\">\n",
       "      <th></th>\n",
       "      <th>MOVIEID</th>\n",
       "      <th>USERID</th>\n",
       "      <th>RATING</th>\n",
       "      <th>TS</th>\n",
       "      <th>DT</th>\n",
       "      <th>TOP5</th>\n",
       "      <th>K</th>\n",
       "      <th>DTYY</th>\n",
       "      <th>DTMM</th>\n",
       "      <th>DTDW</th>\n",
       "      <th>DTHH</th>\n",
       "      <th>KTT</th>\n",
       "      <th>TRAIN</th>\n",
       "      <th>TEST</th>\n",
       "      <th>DIFF</th>\n",
       "    </tr>\n",
       "  </thead>\n",
       "  <tbody>\n",
       "    <tr>\n",
       "      <th>0</th>\n",
       "      <td>1</td>\n",
       "      <td>3</td>\n",
       "      <td>4.0</td>\n",
       "      <td>944919407</td>\n",
       "      <td>944919407000</td>\n",
       "      <td>NaN</td>\n",
       "      <td>81</td>\n",
       "      <td>1999</td>\n",
       "      <td>12</td>\n",
       "      <td>7</td>\n",
       "      <td>13</td>\n",
       "      <td>81</td>\n",
       "      <td>A</td>\n",
       "      <td>N</td>\n",
       "      <td>0.0</td>\n",
       "    </tr>\n",
       "    <tr>\n",
       "      <th>1</th>\n",
       "      <td>1</td>\n",
       "      <td>6</td>\n",
       "      <td>5.0</td>\n",
       "      <td>858275452</td>\n",
       "      <td>858275452000</td>\n",
       "      <td>NaN</td>\n",
       "      <td>18</td>\n",
       "      <td>1997</td>\n",
       "      <td>3</td>\n",
       "      <td>5</td>\n",
       "      <td>17</td>\n",
       "      <td>18</td>\n",
       "      <td>A</td>\n",
       "      <td>N</td>\n",
       "      <td>1.0</td>\n",
       "    </tr>\n",
       "    <tr>\n",
       "      <th>2</th>\n",
       "      <td>1</td>\n",
       "      <td>8</td>\n",
       "      <td>4.0</td>\n",
       "      <td>833981871</td>\n",
       "      <td>833981871000</td>\n",
       "      <td>NaN</td>\n",
       "      <td>45</td>\n",
       "      <td>1996</td>\n",
       "      <td>6</td>\n",
       "      <td>4</td>\n",
       "      <td>13</td>\n",
       "      <td>45</td>\n",
       "      <td>A</td>\n",
       "      <td>N</td>\n",
       "      <td>0.0</td>\n",
       "    </tr>\n",
       "    <tr>\n",
       "      <th>3</th>\n",
       "      <td>1</td>\n",
       "      <td>10</td>\n",
       "      <td>4.0</td>\n",
       "      <td>943497887</td>\n",
       "      <td>943497887000</td>\n",
       "      <td>NaN</td>\n",
       "      <td>5</td>\n",
       "      <td>1999</td>\n",
       "      <td>11</td>\n",
       "      <td>5</td>\n",
       "      <td>2</td>\n",
       "      <td>5</td>\n",
       "      <td>N</td>\n",
       "      <td>A</td>\n",
       "      <td>NaN</td>\n",
       "    </tr>\n",
       "    <tr>\n",
       "      <th>4</th>\n",
       "      <td>1</td>\n",
       "      <td>11</td>\n",
       "      <td>4.5</td>\n",
       "      <td>1230858821</td>\n",
       "      <td>1230858821000</td>\n",
       "      <td>NaN</td>\n",
       "      <td>138</td>\n",
       "      <td>2009</td>\n",
       "      <td>1</td>\n",
       "      <td>6</td>\n",
       "      <td>1</td>\n",
       "      <td>138</td>\n",
       "      <td>A</td>\n",
       "      <td>N</td>\n",
       "      <td>0.5</td>\n",
       "    </tr>\n",
       "  </tbody>\n",
       "</table>\n",
       "</div>"
      ],
      "text/plain": [
       "   MOVIEID  USERID  RATING          TS             DT  TOP5    K  DTYY  DTMM  \\\n",
       "0        1       3     4.0   944919407   944919407000   NaN   81  1999    12   \n",
       "1        1       6     5.0   858275452   858275452000   NaN   18  1997     3   \n",
       "2        1       8     4.0   833981871   833981871000   NaN   45  1996     6   \n",
       "3        1      10     4.0   943497887   943497887000   NaN    5  1999    11   \n",
       "4        1      11     4.5  1230858821  1230858821000   NaN  138  2009     1   \n",
       "\n",
       "   DTDW  DTHH  KTT TRAIN TEST  DIFF  \n",
       "0     7    13   81     A    N   0.0  \n",
       "1     5    17   18     A    N   1.0  \n",
       "2     4    13   45     A    N   0.0  \n",
       "3     5     2    5     N    A   NaN  \n",
       "4     6     1  138     A    N   0.5  "
      ]
     },
     "execution_count": 1,
     "metadata": {},
     "output_type": "execute_result"
    }
   ],
   "source": [
    "import numpy as np\n",
    "import pandas as pd\n",
    "import cx_Oracle\n",
    "import os\n",
    "import json\n",
    "\n",
    "ratings=pd.read_json('data/ratings.json')\n",
    "ratings.head()"
   ]
  },
  {
   "cell_type": "code",
   "execution_count": 6,
   "id": "79057556",
   "metadata": {},
   "outputs": [
    {
     "name": "stdout",
     "output_type": "stream",
     "text": [
      "The columns of the dataframe:\n",
      "\n",
      "Number of columns: 15\n"
     ]
    }
   ],
   "source": [
    "print(\"The columns of the dataframe:\\n\")\n",
    "ratings.columns\n",
    "rows, columns = ratings.shape\n",
    "print(f'Number of columns: {columns}')"
   ]
  },
  {
   "cell_type": "code",
   "execution_count": 7,
   "id": "9ecf29e1",
   "metadata": {},
   "outputs": [
    {
     "name": "stdout",
     "output_type": "stream",
     "text": [
      "Number of rows: 267432\n"
     ]
    }
   ],
   "source": [
    "print(f'Number of rows: {rows}')\n"
   ]
  },
  {
   "cell_type": "code",
   "execution_count": 8,
   "id": "bd4a0209",
   "metadata": {},
   "outputs": [
    {
     "name": "stdout",
     "output_type": "stream",
     "text": [
      "Number of records with MOVEID<20 and RATING==5 is: 40808\n"
     ]
    }
   ],
   "source": [
    "print(f'Number of records with MOVEID<20 and RATING==5 is: {(ratings[(ratings.MOVIEID<20) & (ratings.RATING==5)]).shape[0]}')"
   ]
  },
  {
   "cell_type": "code",
   "execution_count": 9,
   "id": "0e045f09",
   "metadata": {},
   "outputs": [
    {
     "name": "stdout",
     "output_type": "stream",
     "text": [
      "Movies rated by the user USERID==11 are:         MOVIEID  USERID  RATING          TS             DT  TOP5    K  DTYY  \\\n",
      "4             1      11     4.5  1230858821  1230858821000   NaN  138  2009   \n",
      "141827       10      11     2.5  1230858959  1230858959000   NaN  124  2009   \n",
      "246496       19      11     3.5  1230783704  1230783704000   NaN  460  2009   \n",
      "\n",
      "        DTMM  DTDW  DTHH  KTT TRAIN TEST  DIFF  \n",
      "4          1     6     1  138     A    N   0.5  \n",
      "141827     1     6     1  124     A    N  -0.5  \n",
      "246496     1     5     4  460     A    N   0.5  \n"
     ]
    }
   ],
   "source": [
    "print(f'Movies rated by the user USERID==11 are: {ratings[ratings.USERID==11]}')"
   ]
  },
  {
   "cell_type": "code",
   "execution_count": null,
   "id": "223ac836",
   "metadata": {},
   "outputs": [],
   "source": [
    "#Tamar Noselidze"
   ]
  }
 ],
 "metadata": {
  "kernelspec": {
   "display_name": "Python 3 (ipykernel)",
   "language": "python",
   "name": "python3"
  },
  "language_info": {
   "codemirror_mode": {
    "name": "ipython",
    "version": 3
   },
   "file_extension": ".py",
   "mimetype": "text/x-python",
   "name": "python",
   "nbconvert_exporter": "python",
   "pygments_lexer": "ipython3",
   "version": "3.9.7"
  }
 },
 "nbformat": 4,
 "nbformat_minor": 5
}
